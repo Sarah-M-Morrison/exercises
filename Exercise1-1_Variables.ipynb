{
 "cells": [
  {
   "cell_type": "markdown",
   "metadata": {
    "slideshow": {
     "slide_type": "slide"
    }
   },
   "source": [
    "# Exercise 1.1: Variables + Operators\n",
    "All programming languages contain the same fundamental tools: `variables`, `operators`, and `functions`. This tutorial covers the first two of these basic elements of the Python language. \n",
    "\n",
    "<p style=\"height:1pt\"> </p>\n",
    "\n",
    "<div class=\"boxhead1\">\n",
    "    Exercise 1.1 Topics\n",
    "</div>\n",
    "\n",
    "<div class=\"boxtext1\">\n",
    "<ul class=\"a\">\n",
    "    <li> 📌 Numbers: <code>int</code>, <code>float</code> </li>\n",
    "    <ul class=\"b\">\n",
    "        <li> Arithmetic operators </li>\n",
    "        <li> Boolean operators </li>\n",
    "        <li> Built-in functions for numerical objects </li>\n",
    "    </ul>\n",
    "    <li> 📌 Strings </li>\n",
    "    <ul class=\"b\">\n",
    "        <li> Built-in functions for strings </li>\n",
    "        <li> Formatted print statements </li>\n",
    "    </ul>\n",
    "</ul>\n",
    "</div>\n",
    "\n",
    "<hr style=\"border-top: 0.2px solid gray; margin-top: 12pt; margin-bottom: 0pt\"></hr>\n",
    "\n",
    "### Instructions\n",
    "Work through the exercise, writing code where indicated. To run a cell, click on the cell and press \"Shift\" + \"Enter\" or click the \"Run\" button in the toolbar at the top. Note: Do not restart the kernel and clear all outputs. If this happens, run the last cell in the notebook before proceeding.\n",
    "\n",
    "<p style=\"color:#408000; font-weight: bold\"> 🐍 &nbsp; &nbsp; This symbol designates an important note about Python structure, syntax, or another quirk.  </p>\n",
    "\n",
    "<p style=\"color:#008C96; font-weight: bold\"> ▶️ &nbsp; &nbsp; This symbol designates a cell with code to be run.  </p>\n",
    "\n",
    "<p style=\"color:#008C96; font-weight: bold\"> ✏️ &nbsp; &nbsp; This symbol designates a partially coded cell with an example.  </p>\n",
    "\n",
    "<p style=\"color:#008C96; font-weight: bold\"> 📚 &nbsp; &nbsp; This symbol designates a practice question.  </p>\n",
    "\n",
    "\n",
    "<hr style=\"border-top: 1px solid gray; margin-top: 24px; margin-bottom: 1px\"></hr>"
   ]
  },
  {
   "cell_type": "markdown",
   "metadata": {
    "slideshow": {
     "slide_type": "subslide"
    }
   },
   "source": [
    "## Variables + Operators\n",
    "Variables are used in Python to create references to an object (e.g. string, float, DataFrame, etc.). Variables are assigned in Python using `=`.\n",
    "\n",
    "<div class=\"python\">\n",
    "    🐍 <b>Note.</b>\n",
    "    Variable names should be chosen carefully and should indicate what the variable is used for. Python etiquette generally dictates using lowercase variable names. Underscores are common. Variable names cannot start with a number. Also, there are several names that cannot be used as variables, as they are reserved for built-in Python commands, functions, etc. We will see examples of these throughout this exercise.\n",
    "</div>\n",
    "\n",
    "\n",
    "<hr style=\"border-top: 0.2px solid gray; margin-top: 12px; margin-bottom: 1px\"></hr>\n",
    "\n",
    "### Numbers\n",
    "Numbers in Python can be either **integers** (whole numbers) or **floats** (floating point decimal numbers).\n",
    "\n",
    "The following syntax is used to define an integer:\n",
    "```python\n",
    "x = 1\n",
    "y = 42\n",
    "```\n",
    "\n",
    "<div class=\"run\">\n",
    "    ▶️ Run the cell below.\n",
    "</div>"
   ]
  },
  {
   "cell_type": "code",
   "execution_count": 17,
   "metadata": {},
   "outputs": [],
   "source": [
    "# Define variables x and y as integers.\n",
    "x = 1\n",
    "y = 42"
   ]
  },
  {
   "cell_type": "markdown",
   "metadata": {},
   "source": [
    "The following syntax is used to define a float:\n",
    "```python\n",
    "a = 1.0\n",
    "b = 42.0\n",
    "c = 23.782043\n",
    "```\n",
    "\n",
    "<div class=\"example\">\n",
    "    ✏️ Try it.\n",
    "    Define variables a, b, and c according to the values above.\n",
    "</div>"
   ]
  },
  {
   "cell_type": "code",
   "execution_count": 2,
   "metadata": {},
   "outputs": [],
   "source": [
    "# Define variables a, b, and c as floats.\n",
    "a = 1.0\n",
    "b = 42.0\n",
    "c = 23.782043"
   ]
  },
  {
   "cell_type": "markdown",
   "metadata": {},
   "source": [
    "<h4 style=\"border:1px; border-style:solid; border-color:black; padding: 0.5em;\"> <span style=\"color:black\"> Arithmetic Operators </span> </h4>\n",
    "\n",
    "Just like a calculator, basic arithmetic can be done on number variables. Python uses the following symbols \n",
    "\n",
    "| Symbol | Task           |\n",
    "| :----: | :---           |\n",
    "|   +    | Addition       |\n",
    "|   -    | Subtraction    |\n",
    "|   *    | Multiplication |\n",
    "|   /    | Division       |\n",
    "|   %    | Modular        |\n",
    "|  //    | Floor division |\n",
    "|  **    | Power          |\n",
    "\n",
    "\n",
    "<div class=\"example\">\n",
    "✏️  Try it.\n",
    "    Practice these arithmetic operations by running the code in the cell below. Feel free to add more to test the operators. Use the <code>print()</code>  command to output your answers.\n",
    "</div>"
   ]
  },
  {
   "cell_type": "code",
   "execution_count": 5,
   "metadata": {},
   "outputs": [
    {
     "name": "stdout",
     "output_type": "stream",
     "text": [
      "141.68250788732396\n",
      "43\n",
      "3.349583521126761\n",
      "-89.87964909653199\n",
      "1.7820430000000016\n"
     ]
    }
   ],
   "source": [
    "# Do some math.\n",
    "t = x + y\n",
    "u = c / 7.1\n",
    "v = a - u * (c + u)\n",
    "w = c % 2\n",
    "z = (b * u) ** a + x\n",
    "# Print your answers.\n",
    "print(z)\n",
    "print(t)\n",
    "print(u)\n",
    "print(v)\n",
    "print(w)"
   ]
  },
  {
   "cell_type": "markdown",
   "metadata": {},
   "source": [
    "Notice that the order of operations applies.\n",
    "\n",
    "<h4 style=\"border:1px; border-style:solid; border-color:black; padding: 0.5em;\"> <span style=\"color:black\"> Boolean Operators </span> </h4>\n",
    "\n",
    "Boolean operators evaluate a condition between two operands, returning `True` if the condition is met and `False` otherwise. `True` and `False` are called **booleans**.\n",
    "\n",
    "| Symbol | Task                     |\n",
    "| :----: | :----------------------  |\n",
    "|   ==   | Equals                   |\n",
    "|  !=    | Does not equal           |\n",
    "|   <    | Less than                |\n",
    "|   >    | Greater than             |\n",
    "|   <=   | Less than or equal to    |\n",
    "|   >=   | Greater than or equal to |\n",
    "\n",
    "<div class=\"run\">\n",
    "    ▶️ Run the cell below.\n",
    "</div>"
   ]
  },
  {
   "cell_type": "code",
   "execution_count": 6,
   "metadata": {},
   "outputs": [
    {
     "name": "stdout",
     "output_type": "stream",
     "text": [
      "True\n",
      "False\n",
      "True\n",
      "False\n"
     ]
    }
   ],
   "source": [
    "print( b >= w )\n",
    "print( 87 < -2 )\n",
    "print( c != 0 )\n",
    "print( y == x)"
   ]
  },
  {
   "cell_type": "markdown",
   "metadata": {},
   "source": [
    "<h4 style=\"border:1px; border-style:solid; border-color:black; padding: 0.5em;\"> <span style=\"color:black\"> Built-in functions </span> </h4>\n",
    "\n",
    "Python has a number of built-in functions. Here we will introduce a few of the useful built-in functions for numerical variables. \n",
    "\n",
    "The `type()` function is used to check the data type of a variable. For numerical arguments, either `float` or `int` is returned.\n",
    "\n",
    "<div class=\"run\">\n",
    "    ▶️ Run the cell below.\n",
    "</div>"
   ]
  },
  {
   "cell_type": "code",
   "execution_count": 7,
   "metadata": {},
   "outputs": [
    {
     "data": {
      "text/plain": [
       "float"
      ]
     },
     "execution_count": 7,
     "metadata": {},
     "output_type": "execute_result"
    }
   ],
   "source": [
    "type(v)"
   ]
  },
  {
   "cell_type": "markdown",
   "metadata": {},
   "source": [
    "The `isinstance()` function is used to determine whether an argument is in a certain class. It returns a boolean value. Multiple classes can be checked at once.\n",
    "\n",
    "```python\n",
    "isinstance(12, int)\n",
    ">>> True\n",
    "\n",
    "isinstance(12.0,int)\n",
    ">>> False\n",
    "\n",
    "isinstance(12.0,(int,float))\n",
    ">>> True\n",
    "```"
   ]
  },
  {
   "cell_type": "markdown",
   "metadata": {},
   "source": [
    "The commands `int()` and `float()` are used to convert between data types.\n",
    "\n",
    "<div class=\"run\">\n",
    "    ▶️ Run the cell below.\n",
    "</div>"
   ]
  },
  {
   "cell_type": "code",
   "execution_count": 8,
   "metadata": {},
   "outputs": [
    {
     "name": "stdout",
     "output_type": "stream",
     "text": [
      "42.0\n",
      "23\n"
     ]
    }
   ],
   "source": [
    "print( float(y) )\n",
    "print( int(c) )"
   ]
  },
  {
   "cell_type": "markdown",
   "metadata": {},
   "source": [
    "Notice that when converting a float value to an integer, the `int()` command always rounds *down* to the nearest whole number.\n",
    "\n",
    "To round a float to the nearest whole number, use the function `round()`. You can specify the number of decimal places by adding an integer as an argument to the `round()` function .\n",
    "\n",
    "<div class=\"run\">\n",
    "    ▶️ Run the cell below.\n",
    "</div>"
   ]
  },
  {
   "cell_type": "code",
   "execution_count": 9,
   "metadata": {},
   "outputs": [
    {
     "name": "stdout",
     "output_type": "stream",
     "text": [
      "24\n",
      "23.782\n"
     ]
    }
   ],
   "source": [
    "print( round(c) )\n",
    "print( round(c,3) )"
   ]
  },
  {
   "cell_type": "markdown",
   "metadata": {},
   "source": [
    "The `complex()` function is used to define a complex number.\n",
    "\n",
    "<div class=\"run\">\n",
    "    ▶️ Run the cell below.\n",
    "</div>"
   ]
  },
  {
   "cell_type": "code",
   "execution_count": 11,
   "metadata": {},
   "outputs": [],
   "source": [
    "d = complex('5+2j')"
   ]
  },
  {
   "cell_type": "markdown",
   "metadata": {},
   "source": [
    "To return the absolute value of a number, use the `abs()` function.\n",
    "\n",
    "<div class=\"run\">\n",
    "    ▶️ Run the cell below.\n",
    "</div>"
   ]
  },
  {
   "cell_type": "code",
   "execution_count": 12,
   "metadata": {},
   "outputs": [
    {
     "name": "stdout",
     "output_type": "stream",
     "text": [
      "5.385164807134504\n",
      "12\n"
     ]
    }
   ],
   "source": [
    "print( abs(d) )\n",
    "print( abs(-12) )"
   ]
  },
  {
   "cell_type": "markdown",
   "metadata": {},
   "source": [
    "The `divmod()` function returns the quotient and remainder of two input operands in a tuple. (Tuples are another data type that we will cover later.)\n",
    "\n",
    "```python\n",
    "divmod(64, 4.2)\n",
    ">>> (15.0, 0.9999999999999973)\n",
    "```\n",
    "\n",
    "<p style=\"height: 6pt\" > </p>\n",
    "\n",
    "The `pow()` function is an alternative to the `**` operator for raising a number to an exponent, i.e. $x^y$. An optional third argument is used to return the modulus (`%`) of the power of a number, i.e. $x^y$ % $z$.\n",
    "\n",
    "```python\n",
    "pow(8,2)\n",
    ">>> 64\n",
    "\n",
    "pow(8,2,3)\n",
    ">>> 1\n",
    "```\n",
    "\n",
    "<p style=\"height: 6pt\" > </p>\n",
    "\n",
    "<div class=\"practice\">\n",
    "   📚 Practice 1.\n",
    "    The laws of conservation state that in a closed system, mass, energy, and momentum can be neither created nor destroyed. Thus, the energy coming into the Earth's surface (via solar radiation) must be equal to the energy going out from the Earth's surface. The energy coming in via solar radiation can be written:\n",
    "    $$R_{\\text{in}} = G_s \\pi {r_{e}}^2 (1 - \\alpha)$$\n",
    "    where $r_e$ is the radius of the Earth; $\\alpha$ is the Earth's albedo, a fraction correponding to the amount of incident radiation that is reflected; and $G_s$ is the Solar Constant, or the flux density of the solar radiation at the Earth's surface. The Solar Constant can be calculated according to the equation\n",
    "    $$G_s = \\sigma {T_{sun}}^4 \\left( \\frac{4 \\pi {r_{sun}}^2}{4 \\pi d^2} \\right)$$\n",
    "    where $\\sigma$ is the Stefan-Boltzmann constant, $T_{sun}$ is the temperature of the sun, $r_{sun}$ is the radius of the sun, and $d$ is the average distance between the sun and the Earth. The outgoing radiation from the Earth is given by the Stefan-Boltzmann law:\n",
    "    $$R_{\\text{out}} = \\varepsilon \\sigma A_{e} {T_e}^4$$\n",
    "    where $\\varepsilon$ is the emissivity of the Earth, $A_e$ is the surface area of the Earth approximated as a sphere, and $T_e$ is the temperature of the Earth's surface.\n",
    "    \n",
    "<p style=\"font-weight:bold\"> Given $\\sigma$ = 5.67 $\\times$ 10<sup>-8</sup> W m<sup>-2</sup> K<sup>-4</sup>, the radius of the sun is 6.957 $\\times$ 10<sup>5</sup> km, the temperature of the sun is 5778 K, the average distance between the sun and the Earth is 1.5 $\\times$ 10<sup>8</sup> km, and the emissivity of the Earth is 1.0,</p>\n",
    "<ol class=\"alpha\">\n",
    "    <li> Calculate the Solar Constant in W m<sup>-2</sup>. Print your answer rounded to 3 decimal places. </li>\n",
    "    <li> Calculate the temperature of the Earth's surface in °C. Print you answer as both a float and an integer. </li> \n",
    "    <li>The actual global surface temperature of the Earth is about 14.6°C. What accounts for the difference between the answer you calculated above in the actual surface temperature? </li>\n",
    "</ol>\n",
    "<p style=\"font-weight:bold; margin-top:0pt\">Show your work by including comments in your code and assigning variables.</p>\n",
    "</div>"
   ]
  },
  {
   "cell_type": "code",
   "execution_count": 2,
   "metadata": {},
   "outputs": [
    {
     "name": "stdout",
     "output_type": "stream",
     "text": [
      "1359.423\n",
      "1359.423263178802\n",
      "-18.64142353722133\n",
      "-18\n"
     ]
    }
   ],
   "source": [
    "# Write your code here.\n",
    "# Part 1 of the problem:\n",
    "h = (5.67*10**-8)*(5778**4) # This is the Stefan-Boltzmann constant and sun temp. part of finding the SC\n",
    "i = 4*3.1415*((6.957*10**5)**2) # I assigned 'i' as the numerator values\n",
    "j = 4*3.1415*((1.5*10**8)**2) # I assigned 'j' as the denominator values\n",
    "g = h * ( i / j ) # I computed the function with the variables I created\n",
    "print( round(g,3) )\n",
    "print(float(g))\n",
    "# I calculated G, the Solar Constant as 1359.423 by inputting separate functions into code and div./mult. them\n",
    "# Part 2 of the problem:\n",
    "f = 0.30 # I pulled an average albedo of Earth from the Nasa data page\n",
    "e = 5.67*10**-8 #stefan-boltzmann constant\n",
    "q = g*( 1 - f ) # Putting R(in) equaling to R(out) leads to some variables being cancelled out leading to an equation of T=(SC-SC*alb)/(emis*SB)\n",
    "r = 1.0 * e * 4 # emissivity times the SB constant\n",
    "s = q / r # divide the numerator and denominator values found\n",
    "t = ( s**0.25 ) - 273.15\n",
    "print( float(t) )\n",
    "print( int(t) )"
   ]
  },
  {
   "cell_type": "markdown",
   "metadata": {},
   "source": [
    "We are not considering the greenhouse gas effect within the slightly denser atmosphere of Earth. This is why the value trended lower than the actual temperature of the Earth."
   ]
  },
  {
   "cell_type": "markdown",
   "metadata": {},
   "source": [
    "<hr style=\"border-top: 0.2px solid gray; margin-top: 12px; margin-bottom: 1px\"></hr>\n",
    "\n",
    "### Strings\n",
    "Pieces of text in Python are referred to as strings. Strings are defined with either single or double quotes. The only difference between the two is that it is easier to use an apostrophe with double quotes.\n",
    "```python\n",
    "mytext = 'This is a string.'\n",
    "mytext2 = \"This is also a string.\"\n",
    "```\n",
    "To use an apostrope or single quotes inside a string defined by single quotes (or to use double quotes), use a single backslash ( \\\\ ) referred to as an \"escape\" character.\n",
    "```python\n",
    "q1a = \"What is Newton's 1st law?\"\n",
    "q1b = 'What is Newton\\'s 1st law?'\n",
    "```\n",
    "\n",
    "<div class=\"practice\">\n",
    "   📚 Practice 2.\n",
    "    In the cell below, answer the question by defining a new string variable. Use the <code>print()</code>  command to output your answer.\n",
    "</div>"
   ]
  },
  {
   "cell_type": "code",
   "execution_count": 1,
   "metadata": {},
   "outputs": [
    {
     "name": "stdout",
     "output_type": "stream",
     "text": [
      "Any object that is at rest wants to stay at rest, anything that is in motion wants to stay in motion. This is also known as the inertia law.\n"
     ]
    }
   ],
   "source": [
    "# Question\n",
    "q1 = 'What is Newton\\'s 1st law?'\n",
    "\n",
    "# Answer the question by defining a new string variable.\n",
    "mytext = 'Any object that is at rest wants to stay at rest, anything that is in motion wants to stay in motion. This is also known as the inertia law.'\n",
    "# Print your answer.\n",
    "print(mytext)"
   ]
  },
  {
   "cell_type": "markdown",
   "metadata": {},
   "source": [
    "<h4 style=\"border:1px; border-style:solid; border-color:black; padding: 0.5em;\"> <span style=\"color:black\"> Built-in functions </span> </h4>\n",
    "\n",
    "Just like the `int()` and `float` commands, the `str()` command converts a number to a string.\n",
    "\n",
    "<div class=\"run\">\n",
    "    ▶️ Run the cell below.\n",
    "</div>"
   ]
  },
  {
   "cell_type": "code",
   "execution_count": 18,
   "metadata": {},
   "outputs": [],
   "source": [
    "ystr = str(y)"
   ]
  },
  {
   "cell_type": "markdown",
   "metadata": {},
   "source": [
    "The `+` operator can be used to combine two or more strings.\n",
    "\n",
    "<div class=\"run\">\n",
    "    ▶️ Run the cell below.\n",
    "</div>"
   ]
  },
  {
   "cell_type": "code",
   "execution_count": 15,
   "metadata": {},
   "outputs": [],
   "source": [
    "s = 'isaac' + ' ' + 'newton'"
   ]
  },
  {
   "cell_type": "markdown",
   "metadata": {},
   "source": [
    "The commands `string.upper()` and `string.capitalize()` can be used to convert all letters in the string to uppercase and capitalize the first letter in the string, respectively.\n",
    "\n",
    "<div class=\"run\">\n",
    "    ▶️ Run the cell below.\n",
    "</div>"
   ]
  },
  {
   "cell_type": "code",
   "execution_count": 16,
   "metadata": {},
   "outputs": [
    {
     "name": "stdout",
     "output_type": "stream",
     "text": [
      "ISAAC NEWTON\n",
      "Isaac newton\n"
     ]
    }
   ],
   "source": [
    "print( s.upper() )\n",
    "print( s.capitalize())"
   ]
  },
  {
   "cell_type": "markdown",
   "metadata": {},
   "source": [
    "\n",
    "\n",
    "<div class=\"practice\">\n",
    "   📚 Practice 3.\n",
    "    Assign your first and last names to variables and use the <code>+</code> operator to combine them into a single variable. Practice capitalizing the first letter and then the entire string. Print your answers.\n",
    "</div>"
   ]
  },
  {
   "cell_type": "code",
   "execution_count": 4,
   "metadata": {},
   "outputs": [
    {
     "name": "stdout",
     "output_type": "stream",
     "text": [
      "Sarah morrison\n",
      "SARAH MORRISON\n",
      "\n"
     ]
    }
   ],
   "source": [
    "# Define variables\n",
    "s = 'sarah'\n",
    "m = 'morrison'\n",
    "# Combine in a single string.\n",
    "i = 'sarah' + ' ' + 'morrison'\n",
    "# Capitalize the first letter\n",
    "print( i.capitalize())\n",
    "# Capitalize the entire string.\n",
    "print( i.upper())\n",
    "# Print outputs.\n",
    "print()"
   ]
  },
  {
   "cell_type": "markdown",
   "metadata": {},
   "source": [
    "<h4 style=\"border:1px; border-style:solid; border-color:black; padding: 0.5em;\"> <span style=\"color:black\"> Formatted print statements </span> </h4>\n",
    "\n",
    "Python uses C-style formatting to create new, formatted strings with the `%` operator. This is useful for printing variables in functions and when asking for user input, both of which we will discuss later. Formatted print statements contain a string argument with one of the following specifiers:\n",
    "\n",
    "| Symbol | Task                     |\n",
    "| :----: | :----------------------  |\n",
    "|  `%s`  | Strings                  |\n",
    "|  `%d`  | Integers                 |\n",
    "|  `%f`  | Floating point numbers   |\n",
    "\n",
    "The second argument can contain a variable name or a tuple, which is a list of a fixed size. The arguments are separated by the `%` operator.\n",
    "\n",
    "<div class=\"run\">\n",
    "    ▶️ Run the cell below.\n",
    "</div>"
   ]
  },
  {
   "cell_type": "code",
   "execution_count": 1,
   "metadata": {},
   "outputs": [
    {
     "name": "stdout",
     "output_type": "stream",
     "text": [
      "I live in Santa Barbara.\n",
      "I have lived in Santa Barbara for 3 years.\n"
     ]
    }
   ],
   "source": [
    "city = 'Santa Barbara'\n",
    "yrs = 3\n",
    "print( 'I live in %s.' % city )\n",
    "print( 'I have lived in %s for %d years.' % (city,yrs))"
   ]
  },
  {
   "cell_type": "markdown",
   "metadata": {},
   "source": [
    "<div class=\"example\">\n",
    "✏️ Try it.\n",
    "    Use the code below to write a formatted string that prints the sentence <code>My name is [YOUR FIRST NAME]. I am [YOUR AGE] years old.</code>, inputing your name and age. Replace <code>first</code> with the name of the variable you assigned to your first name in the previous question. Replace <code>age</code> with your age as an integer.\n",
    "</div>"
   ]
  },
  {
   "cell_type": "code",
   "execution_count": 12,
   "metadata": {},
   "outputs": [
    {
     "name": "stdout",
     "output_type": "stream",
     "text": [
      "My name is Sarah and I am 19 years old.\n"
     ]
    }
   ],
   "source": [
    "# Define the variable info.\n",
    "name = ('Sarah')\n",
    "age = 19\n",
    "# Complete the sentence to be printed\n",
    "sentence = 'My name is %s and I am %d years old.'\n",
    "# Print\n",
    "print(sentence % (name, age))"
   ]
  },
  {
   "cell_type": "markdown",
   "metadata": {},
   "source": [
    "When printing floats, the %f argument specifier can be accompanied by a number of decimal places to print only a certain number of digits.\n",
    "\n",
    "<div class=\"run\">\n",
    "    ▶️ Run the cell below.\n",
    "</div>"
   ]
  },
  {
   "cell_type": "code",
   "execution_count": 13,
   "metadata": {
    "scrolled": true
   },
   "outputs": [
    {
     "name": "stdout",
     "output_type": "stream",
     "text": [
      "The square root of pi is 1.772454.\n",
      "The square root of pi is 1.77.\n"
     ]
    }
   ],
   "source": [
    "import math\n",
    "pi_sqrt = math.sqrt(math.pi)\n",
    "print(\"The square root of pi is %f.\" % pi_sqrt)\n",
    "print(\"The square root of pi is %.2f.\" % pi_sqrt)"
   ]
  },
  {
   "cell_type": "markdown",
   "metadata": {},
   "source": [
    "\n",
    "\n",
    "<div class=\"practice\">\n",
    "   📚 Practice 4.\n",
    "    Rewrite your answers to practice questions 1a and 1b using formatted print statements. Each answer should include: 1. What you are solving for; 2. Your solution as an integer, float, and a float rounded to 3 decimal places; and 3. Units. For example:\n",
    "\n",
    "<p style=\"font-weight: normal; text-align: center; margin-top: 12pt\"> <code>The radius of the earth is 6,378 km.</code> </p>\n",
    "\n",
    "You should have a total of 6 print statements.\n",
    "\n",
    "</div>"
   ]
  },
  {
   "cell_type": "code",
   "execution_count": 4,
   "metadata": {},
   "outputs": [
    {
     "name": "stdout",
     "output_type": "stream",
     "text": [
      "The solar constant is 1359.\n",
      "The solar constant is 1359.423263.\n",
      "The solar constant is 1359.423.\n",
      "The supposed blackbody temperature of earth's surface is -18.\n",
      "The supposed blackbody temperature of earth's surface is -18.641424.\n",
      "The supposed blackbody temperature of earth's surface is -18.641.\n"
     ]
    }
   ],
   "source": [
    "# Formatted print statement for 1a.\n",
    "# I solved for the solar constant\n",
    "g = 1359.423263178802\n",
    "print(\"The solar constant is %d.\" % g)\n",
    "print(\"The solar constant is %f.\" % g)\n",
    "print(\"The solar constant is %.3f.\" %g)\n",
    "# Formatted print statement for 1b.\n",
    "f = -18.64142353722133\n",
    "print(\"The supposed blackbody temperature of earth's surface is %d.\" %f)\n",
    "print(\"The supposed blackbody temperature of earth's surface is %f.\" %f)\n",
    "print(\"The supposed blackbody temperature of earth's surface is %.3f.\" %f)"
   ]
  },
  {
   "cell_type": "markdown",
   "metadata": {},
   "source": [
    "<hr style=\"border-top: 0.5px solid black; margin-top: 1px; margin-bottom: 1px\"></hr>\n",
    "\n",
    "Recall from Exercise 1.0 that the `input()` function allows for user input within a script or program. Importantly, when Python prompts the user for input, the input is stored as a string, regardless of what it is. Thus, if you write a function (a type of object we will explore in a future exercise) prompting the user for a number, you must be sure to convert the variable storing the input to an integer or float. \n",
    "\n",
    "To demonstrate this, run the following cell, entering the month in which you were born in numerical format (e.g. if you were born in April, your input would be `4`) when prompted.\n",
    "\n",
    "<div class=\"run\">\n",
    "    ▶️ Run the cell below.\n",
    "</div>"
   ]
  },
  {
   "cell_type": "code",
   "execution_count": 5,
   "metadata": {
    "scrolled": true
   },
   "outputs": [
    {
     "name": "stdin",
     "output_type": "stream",
     "text": [
      "Month of birth (1-12):  8\n"
     ]
    },
    {
     "data": {
      "text/plain": [
       "8.0"
      ]
     },
     "execution_count": 5,
     "metadata": {},
     "output_type": "execute_result"
    }
   ],
   "source": [
    "month_in = input('Month of birth (1-12): ')\n",
    "type(month_in)\n",
    "float(month_in)"
   ]
  },
  {
   "cell_type": "markdown",
   "metadata": {},
   "source": [
    "\n",
    "<div class=\"example\">\n",
    "   📚 Practice 5.\n",
    "    Following the example above, create a variable corresponding to the day on which you were born based on user input. Convert both variables to floats and assign the float versions to new variables. Lastly, use one of the boolean operators to evaluate which variable is greater – the day or the month – and print the result.\n",
    "</div>"
   ]
  },
  {
   "cell_type": "code",
   "execution_count": 10,
   "metadata": {},
   "outputs": [
    {
     "name": "stdin",
     "output_type": "stream",
     "text": [
      "Day of birth (1-31):  3\n"
     ]
    },
    {
     "data": {
      "text/plain": [
       "True"
      ]
     },
     "execution_count": 10,
     "metadata": {},
     "output_type": "execute_result"
    }
   ],
   "source": [
    "# User input variable for day of birth\n",
    "day_in = input('Day of birth (1-31): ')\n",
    "type(day_in)\n",
    "# Convert birth day and month to floats.\n",
    "float(month_in)\n",
    "float(day_in)\n",
    "# Evaluate boolean operation + print result.\n",
    "float(month_in) > float(day_in)"
   ]
  },
  {
   "cell_type": "markdown",
   "metadata": {},
   "source": [
    "<hr style=\"border-top: 1px solid gray; margin-top: 24px; margin-bottom: 1px\"></hr>"
   ]
  },
  {
   "cell_type": "code",
   "execution_count": 1,
   "metadata": {
    "cell.metadata.hide_input": "True"
   },
   "outputs": [
    {
     "data": {
      "text/html": [
       "<style>\n",
       "    div.run { \n",
       "        border: 0.5px solid #008C96; \n",
       "        padding: 10px; \n",
       "        background-color: #b2dcdf; \n",
       "        color:#006269; \n",
       "        margin-top: 12px; \n",
       "        font-weight: bold\n",
       "    }\n",
       "    div.example { \n",
       "        border: 0.5px solid #008C96; \n",
       "        padding: 10px; \n",
       "        background-color: #b2dcdf; \n",
       "        color:#006269; \n",
       "        margin-top: 12px;\n",
       "        font-weight: bold\n",
       "    }\n",
       "    div.practice { \n",
       "        border: 0.5px solid #008C96;  \n",
       "        padding: 10px;  \n",
       "        background-color: #b2dcdf;  \n",
       "        color:#006269; \n",
       "        margin-top: 12px;\n",
       "        font-weight: bold\n",
       "    }\n",
       "    div.python { \n",
       "        border: 0.5px solid #408000; \n",
       "        padding: 10px; \n",
       "        background-color: #cddfb4; \n",
       "        color:#2c5900; \n",
       "        margin-top: 12px\n",
       "    }\n",
       "    div.boxhead1 { \n",
       "        border-radius: 4px 4px 0px 0px; \n",
       "        padding: 6px; \n",
       "        border: 0.5px solid #008C96; \n",
       "        background-color: #b2dcdf; \n",
       "        color:#006269; \n",
       "        margin-top: 12px; \n",
       "        font-size: 115%; \n",
       "        font-weight: bold\n",
       "    }\n",
       "    div.boxtext1 { \n",
       "        border-radius: 0px 0px 4px 4px; \n",
       "        border: 0.5px solid #008C96; \n",
       "        padding: 12pt; \n",
       "        color:#006269 \n",
       "    }\n",
       "    div.boxhead2 {\n",
       "        border-radius: 4px 4px 0px 0px; \n",
       "        padding: 6px; border: 0.5px solid #73AD21; \n",
       "        background-color: #c7dea6; \n",
       "        color:#486d15; \n",
       "        margin-top: 12px; \n",
       "        font-size: 115%; \n",
       "        font-weight: bold\n",
       "    }\n",
       "    div.boxtext2 { \n",
       "        border-radius: 0px 0px 4px 4px; \n",
       "        border: 0.5px solid #73AD21; \n",
       "        padding: 12pt; \n",
       "        color:#486d15\n",
       "    }\n",
       "    ol.num {\n",
       "        margin: 0pt;\n",
       "        margin-top: 12pt; \n",
       "        margin-bottom: 2pt; \n",
       "        margin-left: 4pt; \n",
       "        padding-bottom: 4pt; \n",
       "    }\n",
       "    ol.alpha {\n",
       "        list-style-type: lower-alpha;\n",
       "        margin: 0pt;\n",
       "        margin-left: 4pt;\n",
       "        margin-top: 2pt;\n",
       "        font-weight: bold\n",
       "    }\n",
       "    ul.a {\n",
       "        list-style-type: none; \n",
       "        margin-left: -20pt;\n",
       "        font-weight: bold\n",
       "    }\n",
       "    ul.b {\n",
       "        list-style-type: square; \n",
       "        font-weight: normal; \n",
       "        margin-left: 20pt; \n",
       "        margin-top: 4pt; \n",
       "        padding-bottom: 12pt\n",
       "    }\n",
       "</style>"
      ],
      "text/plain": [
       "<IPython.core.display.HTML object>"
      ]
     },
     "execution_count": 1,
     "metadata": {},
     "output_type": "execute_result"
    }
   ],
   "source": [
    "# IGNORE THIS CELL\n",
    "from IPython.core.display import HTML\n",
    "def css_styling():\n",
    "    styles = open(\"./styles/exercises.css\", \"r\").read()\n",
    "    return HTML(styles)\n",
    "css_styling()"
   ]
  }
 ],
 "metadata": {
  "kernelspec": {
   "display_name": "Python 3",
   "language": "python",
   "name": "python3"
  },
  "language_info": {
   "codemirror_mode": {
    "name": "ipython",
    "version": 3
   },
   "file_extension": ".py",
   "mimetype": "text/x-python",
   "name": "python",
   "nbconvert_exporter": "python",
   "pygments_lexer": "ipython3",
   "version": "3.7.3"
  }
 },
 "nbformat": 4,
 "nbformat_minor": 4
}
